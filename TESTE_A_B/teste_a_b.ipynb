{
 "cells": [
  {
   "cell_type": "code",
   "execution_count": 57,
   "outputs": [],
   "source": [
    "import math\n",
    "import numpy as np"
   ],
   "metadata": {
    "collapsed": false,
    "pycharm": {
     "name": "#%%\n"
    }
   }
  },
  {
   "cell_type": "markdown",
   "source": [
    "#### Calcular amostra a partir de um nível de confiança\n",
    "Cinco execuções de um query levaram 22.5, 19.8,21.1, 26.7, 20.2 seconds\n",
    "Quantas execuções devem ser executadas para obter ± 5% em um IC com nível de confiança de 90%?\n",
    "Olhar tabela Tabela t.\n"
   ],
   "metadata": {
    "collapsed": false,
    "pycharm": {
     "name": "#%% md\n"
    }
   }
  },
  {
   "cell_type": "code",
   "execution_count": 50,
   "outputs": [],
   "source": [
    "def get_sample_size(mean, std, error, k):\n",
    "    '''\n",
    "    Calcula o tamanho da amostra a partir de um nível de confiança\n",
    "    :param array:\n",
    "    :param confiance:\n",
    "    :return\n",
    "    '''\n",
    "    return math.ceil((((k * std) / (error*mean)))**2)\n",
    "\n"
   ],
   "metadata": {
    "collapsed": false,
    "pycharm": {
     "name": "#%%\n"
    }
   }
  },
  {
   "cell_type": "code",
   "execution_count": 49,
   "outputs": [
    {
     "data": {
      "text/plain": "30"
     },
     "execution_count": 49,
     "metadata": {},
     "output_type": "execute_result"
    }
   ],
   "source": [
    "arr = [22.5,19.8,21.1,26.7,20.2]\n",
    "mean = np.mean(arr)\n",
    "std = np.std(arr)\n",
    "error = 0.05\n",
    "#0.95;4\n",
    "k = 2.132\n",
    "get_sample_size(mean,std, error, k)"
   ],
   "metadata": {
    "collapsed": false,
    "pycharm": {
     "name": "#%%\n"
    }
   }
  },
  {
   "cell_type": "markdown",
   "source": [
    "# Calculadora de tamanho de amostra\n",
    "Suponha que o tempo médio para gravar um arquivo é 7,94 seg com desvio padrão de 2,14. Aproximadamente, quantas medidas serão requeridas se nós desejamos um IC de 90% e que a média esteja dentro de um intervalo de 7%. Olhar tabela z para T-Student"
   ],
   "metadata": {
    "collapsed": false,
    "pycharm": {
     "name": "#%% md\n"
    }
   }
  },
  {
   "cell_type": "code",
   "execution_count": 1,
   "outputs": [],
   "source": [
    "def get_sample_size_mean_confidence(mean,std,k):\n",
    "    '''\n",
    "    Calcula o tamanho da amostra a partir de um nível de confiança\n",
    "    :param mean:\n",
    "    :param std:\n",
    "    :return:\n",
    "    '''\n",
    "    return math.ceil(((k*std)/(error*mean))**2)\n"
   ],
   "metadata": {
    "collapsed": false,
    "pycharm": {
     "name": "#%%\n"
    }
   }
  },
  {
   "cell_type": "code",
   "execution_count": 2,
   "outputs": [
    {
     "ename": "NameError",
     "evalue": "name 'math' is not defined",
     "output_type": "error",
     "traceback": [
      "\u001B[1;31m---------------------------------------------------------------------------\u001B[0m",
      "\u001B[1;31mNameError\u001B[0m                                 Traceback (most recent call last)",
      "Input \u001B[1;32mIn [2]\u001B[0m, in \u001B[0;36m<cell line: 8>\u001B[1;34m()\u001B[0m\n\u001B[0;32m      6\u001B[0m error \u001B[38;5;241m=\u001B[39m \u001B[38;5;241m0.07\u001B[39m\u001B[38;5;241m/\u001B[39m\u001B[38;5;241m2\u001B[39m\n\u001B[0;32m      7\u001B[0m k \u001B[38;5;241m=\u001B[39m \u001B[38;5;241m1.645\u001B[39m\n\u001B[1;32m----> 8\u001B[0m \u001B[43mget_sample_size_mean_confidence\u001B[49m\u001B[43m(\u001B[49m\u001B[43mmean\u001B[49m\u001B[43m,\u001B[49m\u001B[43mstd\u001B[49m\u001B[43m,\u001B[49m\u001B[43mk\u001B[49m\u001B[43m)\u001B[49m\n",
      "Input \u001B[1;32mIn [1]\u001B[0m, in \u001B[0;36mget_sample_size_mean_confidence\u001B[1;34m(mean, std, k)\u001B[0m\n\u001B[0;32m      1\u001B[0m \u001B[38;5;28;01mdef\u001B[39;00m \u001B[38;5;21mget_sample_size_mean_confidence\u001B[39m(mean,std,k):\n\u001B[0;32m      2\u001B[0m     \u001B[38;5;124;03m'''\u001B[39;00m\n\u001B[0;32m      3\u001B[0m \u001B[38;5;124;03m    Calcula o tamanho da amostra a partir de um nível de confiança\u001B[39;00m\n\u001B[0;32m      4\u001B[0m \u001B[38;5;124;03m    :param mean:\u001B[39;00m\n\u001B[0;32m      5\u001B[0m \u001B[38;5;124;03m    :param std:\u001B[39;00m\n\u001B[0;32m      6\u001B[0m \u001B[38;5;124;03m    :return:\u001B[39;00m\n\u001B[0;32m      7\u001B[0m \u001B[38;5;124;03m    '''\u001B[39;00m\n\u001B[1;32m----> 8\u001B[0m     \u001B[38;5;28;01mreturn\u001B[39;00m \u001B[43mmath\u001B[49m\u001B[38;5;241m.\u001B[39mceil(((k\u001B[38;5;241m*\u001B[39mstd)\u001B[38;5;241m/\u001B[39m(error\u001B[38;5;241m*\u001B[39mmean))\u001B[38;5;241m*\u001B[39m\u001B[38;5;241m*\u001B[39m\u001B[38;5;241m2\u001B[39m)\n",
      "\u001B[1;31mNameError\u001B[0m: name 'math' is not defined"
     ]
    }
   ],
   "source": [
    "#IC 90\n",
    "#Intervalo de 7%\n",
    "\n",
    "mean = 7.94\n",
    "std = 2.14\n",
    "error = 0.07/2\n",
    "k = 1.645\n",
    "get_sample_size_mean_confidence(mean,std,k)"
   ],
   "metadata": {
    "collapsed": false,
    "pycharm": {
     "name": "#%%\n"
    }
   }
  },
  {
   "cell_type": "markdown",
   "source": [
    "### Erro máximo de Estimativa"
   ],
   "metadata": {
    "collapsed": false,
    "pycharm": {
     "name": "#%% md\n"
    }
   }
  },
  {
   "cell_type": "markdown",
   "source": [
    "Um assistente social deseja saber o tamanho da amostra (n) necessário para determinar a proporção da população atendida por uma Unidade de Saúde, que pertence ao município de Cariacica. Não foi feito um levantamento prévio da proporção amostral e, portanto, seu valor é desconhecido. Ela quer ter 90% de confiança que sua o erro máximo de estimativa (E) seja de ±5% (ou 0,05). Quantas pessoas necessitam ser entrevistadas?\n"
   ],
   "metadata": {
    "collapsed": false,
    "pycharm": {
     "name": "#%% md\n"
    }
   }
  },
  {
   "cell_type": "markdown",
   "source": [
    "<img src=\"error_max.png\">\n"
   ],
   "metadata": {
    "collapsed": false,
    "pycharm": {
     "name": "#%% md\n"
    }
   }
  },
  {
   "cell_type": "code",
   "execution_count": 54,
   "outputs": [],
   "source": [
    "def get_sample_size_error_max(k, error):\n",
    "    '''\n",
    "    Calcula o tamanho da amostra a partir de um erro máximo de estimativa\n",
    "    :param k:\n",
    "    :param error:\n",
    "    :return:\n",
    "    '''\n",
    "    return math.ceil(((k**2)*0.25)/(error**2))"
   ],
   "metadata": {
    "collapsed": false,
    "pycharm": {
     "name": "#%%\n"
    }
   }
  },
  {
   "cell_type": "code",
   "execution_count": 55,
   "outputs": [
    {
     "data": {
      "text/plain": "271"
     },
     "execution_count": 55,
     "metadata": {},
     "output_type": "execute_result"
    }
   ],
   "source": [
    "error = 0.05\n",
    "#Z1-a/2 = 10/2 = 5 = 0.95 = 1.645\n",
    "k = 1.645\n",
    "get_sample_size_error_max(k, error)"
   ],
   "metadata": {
    "collapsed": false,
    "pycharm": {
     "name": "#%%\n"
    }
   }
  },
  {
   "cell_type": "markdown",
   "source": [
    "### Teste de Hipótese"
   ],
   "metadata": {
    "collapsed": false,
    "pycharm": {
     "name": "#%% md\n"
    }
   }
  },
  {
   "cell_type": "markdown",
   "source": [
    "Teste de hipótese:\n",
    "– Hipótese nula H0 versus hipótese alternativa Ha\n",
    "• H0 = métodos A e B geram resultados estatisticamente iguais\n",
    "• Ha = métodos geram resultados estatisticamente diferentes\n",
    "\n",
    "\n",
    ": Ho: μA =μB HA\n",
    ": Ha: μA ≠μB"
   ],
   "metadata": {
    "collapsed": false,
    "pycharm": {
     "name": "#%% md\n"
    }
   }
  },
  {
   "cell_type": "markdown",
   "source": [
    "- Quanto menor o p-value, menos provável é que a hipótese nula seja verdadeira, e, mais significativo o resultado é.\n",
    "- Rejeitamos a Ho se o p-value for menor que a significância a(0.05)\n",
    "-"
   ],
   "metadata": {
    "collapsed": false,
    "pycharm": {
     "name": "#%% md\n"
    }
   }
  },
  {
   "cell_type": "markdown",
   "source": [
    "Ex:\n",
    "Tempo entre quedas foi medido em dois sistemas A e B. Os valores de media e desvio padrao obtidos estao listados abaixo. O sistema A e mais suceptivel a falhas do que o sistema B\n",
    "\n",
    "| Sistema | Numero | Media  | Desvio  |\n",
    "|---------|--------|--------|---------|\n",
    "| A       | 972    | 124.10 | 198.20  |\n",
    "| B       | 153    | 141.47 | 226.11  |\n"
   ],
   "metadata": {
    "collapsed": false,
    "pycharm": {
     "name": "#%% md\n"
    }
   }
  },
  {
   "cell_type": "code",
   "execution_count": 17,
   "outputs": [
    {
     "name": "stdout",
     "output_type": "stream",
     "text": [
      "-17.370000000000005 19.353810160580377 191.05723469270885\n",
      "(-inf,7.403)\n"
     ]
    }
   ],
   "source": [
    "import numpy as np\n",
    "#Calcula diferença das médias\n",
    "ma = 124.10\n",
    "mb = 141.47\n",
    "md = ma - mb\n",
    "\n",
    "#Desvio Padrao da diferenca media\n",
    "sa = 198.20\n",
    "sb = 226.11\n",
    "\n",
    "na = 972\n",
    "nb = 153\n",
    "\n",
    "s = (((sa**2)/na)+((sb**2)/nb))**0.5\n",
    "\n",
    "#Graus de Liberdade\n",
    "A=(sa**2)/na\n",
    "B=(sb**2)/nb\n",
    "\n",
    "_na = 1/(na+1)\n",
    "_nb = 1/(nb+1)\n",
    "\n",
    "\n",
    "v = ((A+B)**2)/(_na*(A**2) + _nb*(B**2)) -2\n",
    "\n",
    "#Como os graus de liberdade são maiores que 30, podemos usar a normal unitária ao invés da distribuição t. z0.90 = 1.28\n",
    "result = md+1.28*s\n",
    "\n",
    "\n",
    "print(md,s,v)\n",
    "print(f'(-inf,{np.around(result,3)})')"
   ],
   "metadata": {
    "collapsed": false,
    "pycharm": {
     "name": "#%%\n"
    }
   }
  },
  {
   "cell_type": "markdown",
   "source": [
    "Como o IC contem valores positivos, nao podemos dizer que A e mais suceptivel a falhas do que B."
   ],
   "metadata": {
    "collapsed": false,
    "pycharm": {
     "name": "#%% md\n"
    }
   }
  },
  {
   "cell_type": "markdown",
   "source": [
    "#### Exercício 1:"
   ],
   "metadata": {
    "collapsed": false,
    "pycharm": {
     "name": "#%% md\n"
    }
   }
  },
  {
   "cell_type": "markdown",
   "source": [
    "Considere que seu trabalho é comparar o desempenho de dois algoritmos (A e B) de computação gráfica, que usam métodos diferentes para geração de faces humanas realistas. São sistema complexos cuja execução leva tempos longos para geração das faces.\n",
    "O sistema A foi testado 8 vezes e o sistema B apenas 5, onde em cada experimento utilizou-se o mesmo padrão de resultado a obter.\n",
    "Os tempos de teste dos algoritmos estão na tabela a seguir. Com base nesses resultados, pede-se que se determine qual algoritmo teve melhor desempenho."
   ],
   "metadata": {
    "collapsed": false,
    "pycharm": {
     "name": "#%% md\n"
    }
   }
  },
  {
   "cell_type": "markdown",
   "source": [
    "| Experimento | Algoritmo A | Algoritmo B |\n",
    "|------------|-------------|-------------|\n",
    "| 1          | 1011        | 894         |\n",
    "| 2          | 998         | 963         |\n",
    "| 3          | 1113        | 1098        |\n",
    "| 4          | 1008        | 982         |\n",
    "| 5          | 1100        | 1046        |\n",
    "| 6          | 1039        |             |\n",
    "| 7          | 1003        |             |\n",
    "| 8          | 1098        |             |\n"
   ],
   "metadata": {
    "collapsed": false,
    "pycharm": {
     "name": "#%% md\n"
    }
   }
  },
  {
   "cell_type": "code",
   "execution_count": null,
   "outputs": [],
   "source": [],
   "metadata": {
    "collapsed": false,
    "pycharm": {
     "name": "#%%\n"
    }
   }
  },
  {
   "cell_type": "code",
   "execution_count": 27,
   "outputs": [
    {
     "name": "stdout",
     "output_type": "stream",
     "text": [
      "Media A: 1046.25 Media B: 996.6 Desvio Padrao A: 49.25 Desvio Padrao B: 78.4079\n"
     ]
    }
   ],
   "source": [
    "#Experimento não pareado: teste-t\n",
    "arrA = [1011,998,1113,1008,1100,1039,1003,1098]\n",
    "arrB = [894,963,1098,982,1046]\n",
    "\n",
    "\n",
    "na = len(arrA)\n",
    "nb = len(arrB)\n",
    "\n",
    "meanA = np.mean(arrA)\n",
    "meanB = np.mean(arrB)\n",
    "\n",
    "sa = np.std(arrA)\n",
    "sb = np.std(arrB)\n",
    "#exercicio incorreto\n",
    "sa = 49.25\n",
    "sb = 78.4079\n",
    "\n",
    "print(f'Media A: {meanA}',f'Media B: {meanB}',f'Desvio Padrao A: {sa}',f'Desvio Padrao B: {sb}')\n"
   ],
   "metadata": {
    "collapsed": false,
    "pycharm": {
     "name": "#%%\n"
    }
   }
  },
  {
   "cell_type": "code",
   "execution_count": 34,
   "outputs": [
    {
     "name": "stdout",
     "output_type": "stream",
     "text": [
      "72.26\n",
      "6.960657017753562\n",
      "(-95.95390000000003,195.2539)\n"
     ]
    }
   ],
   "source": [
    "#diferenca das medias\n",
    "md = meanA - meanB\n",
    "s = (((sa**2)/na) + ((sb**2)/nb))**0.5\n",
    "#exercicio incorreto\n",
    "s = 72.26\n",
    "print(s)\n",
    "#Graus de Liberdade\n",
    "A=(sa**2)/na\n",
    "B=(sb**2)/nb\n",
    "\n",
    "_na = 1/(na+1)\n",
    "_nb = 1/(nb+1)\n",
    "\n",
    "\n",
    "v = ((A+B)**2)/(_na*(A**2) + _nb*(B**2)) -2\n",
    "\n",
    "print(v)\n",
    "#Como os graus de liberdade são menores que 30, podemos usar a tabela t IC 90%. t=2.015\n",
    "\n",
    "print(f'({md-2.015*s},{md+2.015*s})')\n",
    "\n",
    "\n"
   ],
   "metadata": {
    "collapsed": false,
    "pycharm": {
     "name": "#%%\n"
    }
   }
  },
  {
   "cell_type": "markdown",
   "source": [
    "O intervalo contem 0. Logo nao podemos concluir que um sistema e melhor que o outro. Estatisticamente, com 90% de confianca, eles tem desempenho comparavel."
   ],
   "metadata": {
    "collapsed": false,
    "pycharm": {
     "name": "#%% md\n"
    }
   }
  },
  {
   "cell_type": "markdown",
   "source": [
    "### Test A|B"
   ],
   "metadata": {
    "collapsed": false,
    "pycharm": {
     "name": "#%% md\n"
    }
   }
  },
  {
   "cell_type": "code",
   "execution_count": 46,
   "outputs": [],
   "source": [
    "import pandas as pd\n",
    "from sklearn.datasets import load_iris"
   ],
   "metadata": {
    "collapsed": false,
    "pycharm": {
     "name": "#%%\n"
    }
   }
  },
  {
   "cell_type": "code",
   "execution_count": 47,
   "outputs": [],
   "source": [
    "iris = load_iris()"
   ],
   "metadata": {
    "collapsed": false,
    "pycharm": {
     "name": "#%%\n"
    }
   }
  },
  {
   "cell_type": "code",
   "execution_count": 58,
   "outputs": [],
   "source": [
    "df = pd.DataFrame(iris.data, columns=iris.feature_names)"
   ],
   "metadata": {
    "collapsed": false,
    "pycharm": {
     "name": "#%%\n"
    }
   }
  }
 ],
 "metadata": {
  "kernelspec": {
   "display_name": "Python 3",
   "language": "python",
   "name": "python3"
  },
  "language_info": {
   "codemirror_mode": {
    "name": "ipython",
    "version": 2
   },
   "file_extension": ".py",
   "mimetype": "text/x-python",
   "name": "python",
   "nbconvert_exporter": "python",
   "pygments_lexer": "ipython2",
   "version": "2.7.6"
  }
 },
 "nbformat": 4,
 "nbformat_minor": 0
}